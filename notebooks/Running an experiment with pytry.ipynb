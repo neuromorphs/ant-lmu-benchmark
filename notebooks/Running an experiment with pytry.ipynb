{
 "cells": [
  {
   "cell_type": "code",
   "execution_count": 1,
   "metadata": {},
   "outputs": [],
   "source": [
    "%matplotlib inline\n",
    "import matplotlib.pyplot as plt\n",
    "import numpy as np\n",
    "import pytry\n",
    "import pandas\n",
    "import lmu_benchmark\n",
    "import seaborn"
   ]
  },
  {
   "cell_type": "markdown",
   "metadata": {},
   "source": [
    "Instead of running the benchmark from the command line, we can run it from Python:"
   ]
  },
  {
   "cell_type": "code",
   "execution_count": 3,
   "metadata": {},
   "outputs": [
    {
     "name": "stdout",
     "output_type": "stream",
     "text": [
      "running LMUBenchmark#20210805-093804-7a373708\n",
      "seed = 1\n",
      "dt = 0.001\n",
      "q = 6\n",
      "theta = 0.5\n",
      "n_neurons = 200\n",
      "neuron_type = 'nengo.LIF()'\n",
      "task = 'Sinewaves([1,2])'\n",
      "output_synapse = 0.01\n",
      "p_training = 0.8\n",
      "accuracy = 0.956875\n",
      "confusion = [[4000, 0], [345, 3655]]\n"
     ]
    },
    {
     "data": {
      "text/plain": [
       "{'accuracy': 0.956875, 'confusion': [[4000, 0], [345, 3655]]}"
      ]
     },
     "execution_count": 3,
     "metadata": {},
     "output_type": "execute_result"
    }
   ],
   "source": [
    "trial = lmu_benchmark.LMUBenchmark()\n",
    "trial.run(task=\"Sinewaves([1,2])\")"
   ]
  },
  {
   "cell_type": "markdown",
   "metadata": {},
   "source": [
    "If we want to run it a bunch of times and vary parameters, we can do this in a `for` loop.  Note that we set `data_dir` to give it a directory to save the results in (so we can load them later), and we set `verbose` to False so it doesn't fill our screen with text."
   ]
  },
  {
   "cell_type": "code",
   "execution_count": null,
   "metadata": {},
   "outputs": [],
   "source": [
    "upper_freqs = [1.1, 1.2, 1.3, 1.4]\n",
    "for seed in range(5):\n",
    "    for upper in upper_freqs:\n",
    "        for q in [1,3,6]:\n",
    "            trial.run(q=q, seed=seed, task=\"Sinewaves([1,%g])\"%upper, data_dir='exp3', verbose=False)"
   ]
  },
  {
   "cell_type": "markdown",
   "metadata": {},
   "source": [
    "Now we load the data and put it in a `pandas` DataFrame, which is a standard method for storing this sort of data."
   ]
  },
  {
   "cell_type": "code",
   "execution_count": null,
   "metadata": {},
   "outputs": [],
   "source": [
    "data = pytry.read('exp3')\n",
    "df = pandas.DataFrame(data)\n",
    "df"
   ]
  },
  {
   "cell_type": "markdown",
   "metadata": {},
   "source": [
    "From here, we can generate various `seaborn` plots to look at the data:"
   ]
  },
  {
   "cell_type": "code",
   "execution_count": null,
   "metadata": {},
   "outputs": [],
   "source": [
    "plt.figure(figsize=(12,4))\n",
    "seaborn.barplot(x='task', y='accuracy', data=df, hue='q')"
   ]
  },
  {
   "cell_type": "code",
   "execution_count": null,
   "metadata": {},
   "outputs": [],
   "source": []
  }
 ],
 "metadata": {
  "kernelspec": {
   "display_name": "Python 3",
   "language": "python",
   "name": "python3"
  },
  "language_info": {
   "codemirror_mode": {
    "name": "ipython",
    "version": 3
   },
   "file_extension": ".py",
   "mimetype": "text/x-python",
   "name": "python",
   "nbconvert_exporter": "python",
   "pygments_lexer": "ipython3",
   "version": "3.6.4"
  }
 },
 "nbformat": 4,
 "nbformat_minor": 4
}
