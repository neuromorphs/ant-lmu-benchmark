{
 "cells": [
  {
   "cell_type": "markdown",
   "metadata": {},
   "source": [
    "# Loading and exploration of various dataset from the neuromorphs/Tonic  "
   ]
  },
  {
   "cell_type": "code",
   "execution_count": 8,
   "metadata": {},
   "outputs": [],
   "source": [
    "#!pip install tonic\n",
    "import tonic\n",
    "import tonic.transforms as transforms\n",
    "import torch"
   ]
  },
  {
   "cell_type": "markdown",
   "metadata": {},
   "source": [
    "## NMNIST Dataset"
   ]
  },
  {
   "cell_type": "code",
   "execution_count": 66,
   "metadata": {},
   "outputs": [
    {
     "name": "stdout",
     "output_type": "stream",
     "text": [
      "torch.Size([1, 4517, 4])\n",
      "torch.Size([1])\n"
     ]
    }
   ],
   "source": [
    "dataset = tonic.datasets.NMNIST(save_to='./data', train=False)\n",
    "dataloader = torch.utils.data.DataLoader(dataset, shuffle=True, num_workers=4, pin_memory=True)\n",
    "events, target = next(iter(dataloader))\n",
    "print(events.shape)\n",
    "print(target.shape)"
   ]
  },
  {
   "cell_type": "code",
   "execution_count": 74,
   "metadata": {},
   "outputs": [
    {
     "data": {
      "text/plain": [
       "tensor(33., dtype=torch.float64)"
      ]
     },
     "execution_count": 74,
     "metadata": {},
     "output_type": "execute_result"
    }
   ],
   "source": [
    "print(max(events[0,:,1]))\n",
    "print(events[0,:,0])\n",
    "#Why is the maximum adderess 33 and not 28?"
   ]
  },
  {
   "cell_type": "markdown",
   "metadata": {},
   "source": [
    "## IBM Gesture recognition dataset\n",
    "#### Event is in the odering x(128 pixels), y(128 pixels), polarity, time stamp"
   ]
  },
  {
   "cell_type": "code",
   "execution_count": 75,
   "metadata": {},
   "outputs": [
    {
     "name": "stdout",
     "output_type": "stream",
     "text": [
      "Downloading https://www.neuromorphic-vision.com/public/downloads/ibmGestureTest.tar.gz to ./data/ibmGestureTest.tar.gz\n"
     ]
    },
    {
     "data": {
      "application/vnd.jupyter.widget-view+json": {
       "model_id": "5b233f0f34b842d3a2ba78ec22dba4c9",
       "version_major": 2,
       "version_minor": 0
      },
      "text/plain": [
       "HBox(children=(FloatProgress(value=0.0, max=691455012.0), HTML(value='')))"
      ]
     },
     "metadata": {},
     "output_type": "display_data"
    },
    {
     "name": "stdout",
     "output_type": "stream",
     "text": [
      "\n",
      "Extracting ./data/ibmGestureTest.tar.gz to ./data\n",
      "torch.Size([1, 377342, 4])\n",
      "torch.Size([1])\n"
     ]
    }
   ],
   "source": [
    "dataset = tonic.datasets.DVSGesture(save_to='./data', train=False)\n",
    "dataloader = torch.utils.data.DataLoader(dataset, shuffle=True, num_workers=4, pin_memory=True)\n",
    "events, target = next(iter(dataloader))\n",
    "print(events.shape)\n",
    "print(target.shape)"
   ]
  },
  {
   "cell_type": "code",
   "execution_count": null,
   "metadata": {},
   "outputs": [],
   "source": []
  }
 ],
 "metadata": {
  "kernelspec": {
   "display_name": "Python 3",
   "language": "python",
   "name": "python3"
  },
  "language_info": {
   "codemirror_mode": {
    "name": "ipython",
    "version": 3
   },
   "file_extension": ".py",
   "mimetype": "text/x-python",
   "name": "python",
   "nbconvert_exporter": "python",
   "pygments_lexer": "ipython3",
   "version": "3.8.3"
  }
 },
 "nbformat": 4,
 "nbformat_minor": 4
}
